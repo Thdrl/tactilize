{
 "cells": [
  {
   "cell_type": "markdown",
   "metadata": {},
   "source": [
    "# Tactilisation d'une plaque\n",
    "\n",
    "Le but de ce projet est de tactiliser une plaque rectangulaire de taille a x b ($\\approx 10^{-2}$ m)."
   ]
  },
  {
   "cell_type": "markdown",
   "metadata": {},
   "source": [
    "On importe les librairies utiles et on définit les constantes utilisées plus tard."
   ]
  },
  {
   "cell_type": "code",
   "execution_count": 130,
   "metadata": {},
   "outputs": [],
   "source": [
    "import numpy as np\n",
    "import matplotlib.pyplot as plt\n",
    "from matplotlib.patches import Rectangle\n",
    "global a,b,c\n",
    "\n",
    "a=2e-2 #largeur (x)\n",
    "b=3e-2 #hauteur (y)\n",
    "c=1e3\n",
    "dt=1e-8\n",
    "\n",
    "tf=1e-4\n",
    "n=int(tf/dt)"
   ]
  },
  {
   "cell_type": "markdown",
   "metadata": {},
   "source": [
    "## Méthode des sources secondaires\n",
    "\n",
    "Pour tenir compte des reflections aux interfaces, on utilisera la méthode des sources secondaires."
   ]
  },
  {
   "cell_type": "code",
   "execution_count": 131,
   "metadata": {},
   "outputs": [],
   "source": [
    "def sources_secondaires(x,y,a,b,ordre=5,plot=False):\n",
    "    \n",
    "    '''returns a list of secondary sources, given the primary source and the dimensions of the box.\n",
    "    It can plot them if plot == True'''\n",
    "    \n",
    "    if ordre<1:\n",
    "        raise ValueError('l\\'ordre max de reflection considéré doit etre un entier >= 1')\n",
    "    else:\n",
    "        pts=[]\n",
    "        for i in range(ordre):\n",
    "            pts.append([])\n",
    "        \n",
    "        \n",
    "        for nx in range(-ordre,ordre+1):\n",
    "            for ny in range(-ordre,ordre+1):\n",
    "                if abs(nx)+abs(ny)!=0 and abs(nx)+abs(ny)<=ordre:\n",
    "                    \n",
    "                    if nx%2==0 and ny%2==0:\n",
    "                        pts[abs(nx)+abs(ny)-1].append([x+nx*a,y+ny*b])\n",
    "                    elif nx%2==0 and ny%2!=0:\n",
    "                        pts[abs(nx)+abs(ny)-1].append([x+nx*a,(ny+1)*b-y])\n",
    "                    elif nx%2!=0 and ny%2==0:\n",
    "                        pts[abs(nx)+abs(ny)-1].append([(nx+1)*a-x,y+ny*b])\n",
    "                    else:\n",
    "                        pts[abs(nx)+abs(ny)-1].append([(nx+1)*a-x,(ny+1)*b-y])\n",
    "                     \n",
    "        if plot:\n",
    "            fig, ax = plt.subplots(figsize=[5,5])\n",
    "            \n",
    "            plt.axis('off')\n",
    "            ax.get_xaxis().set_visible(False)\n",
    "            ax.get_yaxis().set_visible(False)\n",
    "            ax.axis('equal')\n",
    "            fig.tight_layout()\n",
    "            ax.add_patch(Rectangle([0,0],a,b,ec='k',facecolor='none'))\n",
    "            \n",
    "            ax.plot(x,y,'+',label='source')\n",
    "            for od in range(ordre):\n",
    "                points=np.array(pts[od])\n",
    "                ax.plot(points[:,0],points[:,1],'+',label='source image d\\'ordre '+str(od+1))   \n",
    "            ax.legend()\n",
    "        else:    \n",
    "            return pts\n",
    "    "
   ]
  },
  {
   "cell_type": "code",
   "execution_count": 132,
   "metadata": {},
   "outputs": [
    {
     "data": {
      "image/png": "[encoded data removed]",
      "text/plain": [
       "<Figure size 360x360 with 1 Axes>"
      ]
     },
     "metadata": {
      "needs_background": "light"
     },
     "output_type": "display_data"
    }
   ],
   "source": [
    "sources_secondaires(a/1.5,b/4,a,b,3,True)"
   ]
  },
  {
   "cell_type": "markdown",
   "metadata": {},
   "source": [
    "Est ci-après définie la fonction propagation, qui renvoie à partir du signal de départ s, le signal reçu à la reception après propagation selon un chemin unique"
   ]
  },
  {
   "cell_type": "code",
   "execution_count": 133,
   "metadata": {},
   "outputs": [],
   "source": [
    "def impulse(n,pos=0):\n",
    "    '''Returns a dirac n-array with the 1 in position pos'''\n",
    "    if pos > n or n < 0:\n",
    "        raise ValueError('la position doit être un entier entre 0 et n')\n",
    "    else:\n",
    "        res=np.zeros(n)\n",
    "        res[pos]=1\n",
    "        return res\n",
    "\n",
    "def propagation(s,p_source,p_recep,ordre=0):\n",
    "    '''Modifies the s signal to get what it looks like after propagating along one path'''\n",
    "    \n",
    "    \n",
    "    coeff_r=-.9 # ?\n",
    "    dist=np.sqrt((p_source[0]-p_recep[0])**2+(p_source[1]-p_recep[1])**2)\n",
    "    retard=dist/c\n",
    "    s_retarde=np.concatenate((np.zeros(int(retard/dt)),s),axis=None)\n",
    "    attenuation=(1+dist)**(-.5)*coeff_r**ordre\n",
    "    return attenuation*s_retarde  "
   ]
  },
  {
   "cell_type": "code",
   "execution_count": 134,
   "metadata": {},
   "outputs": [
    {
     "data": {
      "text/plain": [
       "Text(0, 0.5, 'signal reçu (UA)')"
      ]
     },
     "execution_count": 134,
     "metadata": {},
     "output_type": "execute_result"
    },
    {
     "data": {
      "image/png": "[encoded data removed]",
      "text/plain": [
       "<Figure size 432x288 with 1 Axes>"
      ]
     },
     "metadata": {
      "needs_background": "light"
     },
     "output_type": "display_data"
    }
   ],
   "source": [
    "res=propagation(impulse(n),[0.1*a,0],[0.1*a,b])\n",
    "plt.plot([i*dt for i in range(len(res))],res)\n",
    "plt.xlabel('temps (s)')\n",
    "plt.ylabel('signal reçu (UA)')"
   ]
  },
  {
   "cell_type": "code",
   "execution_count": 135,
   "metadata": {},
   "outputs": [],
   "source": [
    "def add_different_lengths(a,b): # les vecteurs doivent être au format array <!>\n",
    "    '''Add vectors of different lengths together, stacking them on the left'''\n",
    "    listes = sorted((a, b), key=len)\n",
    "    c = listes[1].copy()\n",
    "    c[:len(listes[0])] += listes[0]\n",
    "    return c\n",
    "\n",
    "def reponse(s,p_source,p_recep,ordre_max=30):\n",
    "    '''somme les réponses de la source principal + sources secondaires jusque ordre_max'''\n",
    "    signal=propagation(s,p_source,p_recep,0) #ordre 0\n",
    "    x=p_source[0]\n",
    "    y=p_source[1]\n",
    "    liste_sources=sources_secondaires(x,y,a,b,ordre_max)\n",
    "    for od in range(ordre_max):\n",
    "        sources=liste_sources[od]\n",
    "        for point in sources:\n",
    "            signal=add_different_lengths(signal,propagation(s,point,p_recep,od+1))\n",
    "    return signal"
   ]
  },
  {
   "cell_type": "code",
   "execution_count": 136,
   "metadata": {
    "scrolled": true
   },
   "outputs": [
    {
     "data": {
      "text/plain": [
       "[<matplotlib.lines.Line2D at 0x147c2266518>]"
      ]
     },
     "execution_count": 136,
     "metadata": {},
     "output_type": "execute_result"
    },
    {
     "data": {
      "image/png": "[encoded data removed]",
      "text/plain": [
       "<Figure size 432x288 with 1 Axes>"
      ]
     },
     "metadata": {
      "needs_background": "light"
     },
     "output_type": "display_data"
    }
   ],
   "source": [
    "res=reponse(impulse(n),[a/2,b/2],[a/3,b/4],30)\n",
    "plt.plot([i*dt for i in range(len(res))],res)"
   ]
  },
  {
   "cell_type": "code",
   "execution_count": 137,
   "metadata": {},
   "outputs": [
    {
     "data": {
      "text/plain": [
       "[<matplotlib.lines.Line2D at 0x147bf9eb278>]"
      ]
     },
     "execution_count": 137,
     "metadata": {},
     "output_type": "execute_result"
    },
    {
     "data": {
      "image/png": "[encoded data removed]",
      "text/plain": [
       "<Figure size 432x288 with 1 Axes>"
      ]
     },
     "metadata": {
      "needs_background": "light"
     },
     "output_type": "display_data"
    }
   ],
   "source": [
    "from scipy.signal import gaussian\n",
    "\n",
    "def signal_large_bande(tspan,fc,bw=1,bwr=-6):\n",
    "    N=tspan/dt\n",
    "    vect=[i*dt for i in range(-int(N/2),int(N/2))]\n",
    "    \n",
    "    fe=.2*fc\n",
    "    sin=np.sin([2*np.pi*fc*t for t in vect])\n",
    "    \n",
    "    ref=10**(bwr/20)\n",
    "    a=-(np.pi*fc*bw)**2/4*np.log(ref)\n",
    "    g=np.array([np.exp(-a*t**2) for t in vect])\n",
    "    return np.real(sin*g),vect\n",
    "\n",
    "tspan=5e-6\n",
    "fc=1e6\n",
    "bw=1\n",
    "\n",
    "s=signal_large_bande(tspan,fc,bw)\n",
    "plt.plot(s[1],s[0])"
   ]
  },
  {
   "cell_type": "code",
   "execution_count": 138,
   "metadata": {},
   "outputs": [
    {
     "data": {
      "text/plain": [
       "[<matplotlib.lines.Line2D at 0x147c2421ba8>]"
      ]
     },
     "execution_count": 138,
     "metadata": {},
     "output_type": "execute_result"
    },
    {
     "data": {
      "image/png": "[encoded data removed]",
      "text/plain": [
       "<Figure size 432x288 with 1 Axes>"
      ]
     },
     "metadata": {
      "needs_background": "light"
     },
     "output_type": "display_data"
    }
   ],
   "source": [
    "def random_point():\n",
    "    return [np.random.rand()*a,np.random.rand()*b]\n",
    "\n",
    "\n",
    "res=reponse(signal_large_bande(tspan,fc),random_point(),random_point(),25)\n",
    "plt.plot([i*dt for i in range(len(res))],res)"
   ]
  },
  {
   "cell_type": "code",
   "execution_count": 139,
   "metadata": {},
   "outputs": [],
   "source": [
    "def zone(start=[0,0],dx=a,dy=b,nx=20,ny=30):\n",
    "    x=ref[0]\n",
    "    y=ref[1]\n",
    "    vecx=np.linspace(start[0]+dx/nx,dx*(1+1/nx),nx)\n",
    "    vecy=np.linspace(start[1]+dy/ny,dy*(1+1/ny),ny)\n",
    "    points=[]\n",
    "    for x in vecx:\n",
    "        for y in vecy:\n",
    "            points.append([x,y])\n",
    "    return np.array(points)"
   ]
  },
  {
   "cell_type": "code",
   "execution_count": 140,
   "metadata": {
    "scrolled": true
   },
   "outputs": [
    {
     "data": {
      "text/plain": [
       "[<matplotlib.lines.Line2D at 0x147c2449da0>]"
      ]
     },
     "execution_count": 140,
     "metadata": {},
     "output_type": "execute_result"
    },
    {
     "data": {
      "image/png": "[encoded data removed]",
      "text/plain": [
       "<Figure size 432x288 with 1 Axes>"
      ]
     },
     "metadata": {
      "needs_background": "light"
     },
     "output_type": "display_data"
    }
   ],
   "source": [
    "plt.plot(zone()[:,0],zone()[:,1],'+')"
   ]
  },
  {
   "cell_type": "code",
   "execution_count": 141,
   "metadata": {},
   "outputs": [
    {
     "data": {
      "text/plain": [
       "611.2723308559639"
      ]
     },
     "execution_count": 141,
     "metadata": {},
     "output_type": "execute_result"
    }
   ],
   "source": [
    "correspondance(s,ref,[a/4,b/4],recep1,recep2)"
   ]
  },
  {
   "cell_type": "code",
   "execution_count": 147,
   "metadata": {},
   "outputs": [
    {
     "data": {
      "text/plain": [
       "36"
      ]
     },
     "execution_count": 147,
     "metadata": {},
     "output_type": "execute_result"
    }
   ],
   "source": [
    "np.sum(np.array([1,2,3]))**2"
   ]
  },
  {
   "cell_type": "code",
   "execution_count": 172,
   "metadata": {},
   "outputs": [],
   "source": [
    "def trim(s1,s2):\n",
    "    L=sorted([s1,s2], key=len)\n",
    "    L[1]=L[1][:len(L[0])]\n",
    "    return L[0],L[1]\n",
    "\n",
    "def correlation(s1,s2):\n",
    "    itg_cv=np.fft.ifft(np.fft.fft(s1)*np.conj(np.fft.fft(s2)))\n",
    "    e1=np.sum(s1**2)\n",
    "    e2=np.sum(s2**2)\n",
    "    return (e1*e2)**(-.5)*np.max(abs(itg_cv))\n",
    "\n",
    "\n",
    "def correspondance(s,ref,pt,recep1,recep2,ordre_max=30):\n",
    "    \n",
    "    sr1=reponse(s,ref,recep1,ordre_max)\n",
    "    sr2=reponse(s,ref,recep2,ordre_max)\n",
    "    s1=reponse(s,pt,recep1,ordre_max)\n",
    "    s2=reponse(s,pt,recep2,ordre_max)\n",
    "    \n",
    "    s1,sr1=trim(sr1,s1)\n",
    "    C1=correlation(sr1,s1)\n",
    "    \n",
    "    s2,sr2=trim(sr2,s2)\n",
    "    C2=correlation(sr2,s2)\n",
    "    \n",
    "    return (C1+C2)/2\n",
    "    \n",
    "\n",
    "def zone_correlation(s,ref,recep1,recep2,nx=20,ny=30,plot=False):\n",
    "    '''Returns either a list with the positions and correlation coeff. or plots it into a matrix'''\n",
    "    \n",
    "    res=[]\n",
    "    zn=zone(nx=nx,ny=ny)\n",
    "    n=len(zn)\n",
    "    count=0\n",
    "    \n",
    "    for pt in zn:\n",
    "        C=correspondance(s,ref,pt,recep1,recep2)\n",
    "        res.append(list(pt)+[C])\n",
    "        count+=1\n",
    "        \n",
    "        if count%(n//10)==0:\n",
    "            print(str(count)+' points were evaluated in '+str(n)+' total pts')\n",
    "            \n",
    "    res=np.array(res)\n",
    "        \n",
    "    if plot:\n",
    "        mat=np.reshape(res[:,2],[ny,nx])\n",
    "        plt.imshow(abs(mat)/np.max(abs(mat)),extent=[0,20,0,30])\n",
    "        plt.xlabel('x position (cm)')\n",
    "        plt.ylabel('y position (cm)')\n",
    "        plt.title('Correlation(x,y)')\n",
    "        plt.colorbar()\n",
    "        \n",
    "    else:    \n",
    "        return res"
   ]
  },
  {
   "cell_type": "code",
   "execution_count": 162,
   "metadata": {},
   "outputs": [
    {
     "data": {
      "text/plain": [
       "0.999999999978298"
      ]
     },
     "execution_count": 162,
     "metadata": {},
     "output_type": "execute_result"
    }
   ],
   "source": [
    "s=np.array(s)\n",
    "correlation(s,s)"
   ]
  },
  {
   "cell_type": "code",
   "execution_count": 168,
   "metadata": {},
   "outputs": [
    {
     "data": {
      "text/plain": [
       "0.685249902099727"
      ]
     },
     "execution_count": 168,
     "metadata": {},
     "output_type": "execute_result"
    }
   ],
   "source": [
    "correspondance(s,ref,[a/2,b/2],recep1,recep2)"
   ]
  },
  {
   "cell_type": "code",
   "execution_count": 173,
   "metadata": {},
   "outputs": [],
   "source": [
    "s=signal_large_bande(tspan,fc)\n",
    "ref=[a/3,b/1.5]\n",
    "recep1=random_point()\n",
    "recep2=random_point()"
   ]
  },
  {
   "cell_type": "markdown",
   "metadata": {},
   "source": [
    "## <!> The next cell takes a few minutes to run"
   ]
  },
  {
   "cell_type": "code",
   "execution_count": 174,
   "metadata": {},
   "outputs": [
    {
     "name": "stdout",
     "output_type": "stream",
     "text": [
      "60 points were evaluated in 600 total pts\n",
      "120 points were evaluated in 600 total pts\n",
      "180 points were evaluated in 600 total pts\n",
      "240 points were evaluated in 600 total pts\n",
      "300 points were evaluated in 600 total pts\n",
      "360 points were evaluated in 600 total pts\n",
      "420 points were evaluated in 600 total pts\n",
      "480 points were evaluated in 600 total pts\n",
      "540 points were evaluated in 600 total pts\n",
      "600 points were evaluated in 600 total pts\n"
     ]
    },
    {
     "data": {
      "image/png": "[encoded data removed]",
      "text/plain": [
       "<Figure size 432x288 with 2 Axes>"
      ]
     },
     "metadata": {
      "needs_background": "light"
     },
     "output_type": "display_data"
    }
   ],
   "source": [
    "zone_correlation(s,ref,recep1,recep2,plot=True)"
   ]
  },
  {
   "cell_type": "code",
   "execution_count": 198,
   "metadata": {
    "scrolled": true
   },
   "outputs": [],
   "source": [
    "def Zoom(s,start,ref,recep1,recep2,nr=20,plot=False):\n",
    "    '''Does the same as zone_correlation, but zoomed in on start'''\n",
    "    \n",
    "    res=[]\n",
    "    dr=a/10\n",
    "    center=[start[0]-dr/2,start[1]-dr/2]\n",
    "    zn=zone(start,dr,dr,nr,nr)\n",
    "    n=len(zn)\n",
    "    \n",
    "    for pt in zn:\n",
    "        C=correspondance(s,ref,pt,recep1,recep2)\n",
    "        res.append(list(pt)+[C])\n",
    "            \n",
    "    res=np.array(res)\n",
    "        \n",
    "    if plot:\n",
    "        mat=np.reshape(res[:,2],[nr,nr])\n",
    "        plt.imshow(abs(mat)/np.max(abs(mat)),extent=[start[0]-dr/2,start[0]+dr/2,start[1]-dr/2,start[1]+dr/2])\n",
    "        plt.xlabel('x position (m)')\n",
    "        plt.ylabel('y position (m)')\n",
    "        plt.title('Correlation(x,y)')\n",
    "        plt.colorbar()\n",
    "        \n",
    "    else:    \n",
    "        return res    "
   ]
  },
  {
   "cell_type": "code",
   "execution_count": 199,
   "metadata": {},
   "outputs": [
    {
     "data": {
      "image/png": "[encoded data removed]",
      "text/plain": [
       "<Figure size 432x288 with 2 Axes>"
      ]
     },
     "metadata": {
      "needs_background": "light"
     },
     "output_type": "display_data"
    }
   ],
   "source": [
    "Zoom(s,ref,ref,recep1,recep2,nr=20,plot=True)"
   ]
  },
  {
   "cell_type": "code",
   "execution_count": null,
   "metadata": {},
   "outputs": [],
   "source": []
  }
 ],
 "metadata": {
  "kernelspec": {
   "display_name": "Python 3",
   "language": "python",
   "name": "python3"
  },
  "language_info": {
   "codemirror_mode": {
    "name": "ipython",
    "version": 3
   },
   "file_extension": ".py",
   "mimetype": "text/x-python",
   "name": "python",
   "nbconvert_exporter": "python",
   "pygments_lexer": "ipython3",
   "version": "3.7.1"
  }
 },
 "nbformat": 4,
 "nbformat_minor": 5
}
